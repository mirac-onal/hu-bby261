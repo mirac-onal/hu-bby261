{
  "nbformat": 4,
  "nbformat_minor": 0,
  "metadata": {
    "colab": {
      "provenance": [],
      "authorship_tag": "ABX9TyPbf1/+tgXU3y5qrXXq5HcT",
      "include_colab_link": true
    },
    "kernelspec": {
      "name": "python3",
      "display_name": "Python 3"
    },
    "language_info": {
      "name": "python"
    }
  },
  "cells": [
    {
      "cell_type": "markdown",
      "metadata": {
        "id": "view-in-github",
        "colab_type": "text"
      },
      "source": [
        "<a href=\"https://colab.research.google.com/github/mirac-onal/hu-bby261/blob/main/Xml_Hackathon_Mira%C3%A7%C3%96nal_adl%C4%B1_not_defterinin_kopyas%C4%B1.ipynb\" target=\"_parent\"><img src=\"https://colab.research.google.com/assets/colab-badge.svg\" alt=\"Open In Colab\"/></a>"
      ]
    },
    {
      "cell_type": "code",
      "execution_count": 2,
      "metadata": {
        "id": "VyaTxDRIIZfU",
        "colab": {
          "base_uri": "https://localhost:8080/"
        },
        "outputId": "015d3fa5-6e3d-438a-bbab-1bf749afa5e9"
      },
      "outputs": [
        {
          "output_type": "stream",
          "name": "stdout",
          "text": [
            "XML dosyası 'aek_metadata.xml' oluşturuldu.\n",
            "Kayıtlar:\n",
            "{'Baslik': \"Python'a Giriş\", 'Konu': 'Programlama', 'Aciklama': \"Python'a yeni başlayanlar için bir rehber.\", 'Olusturan': 'OpenAI', 'Lisans': 'CC BY-SA', 'Dil': 'İngilizce', 'Kimlik': 'https://bby.hacettepe.edu.tr/'}\n",
            "{'Baslik': 'İleri Makine Öğrenimi', 'Konu': 'Yapay Zeka', 'Aciklama': 'Makine öğreniminde ileri kavramlar.', 'Olusturan': 'AI Enstitüsü', 'Lisans': 'CC BY-NC', 'Dil': 'İngilizce', 'Kimlik': 'https://bby.hacettepe.edu.tr/'}\n",
            "\n",
            "Konu='Programlama' ile eşleşen kayıtlar aranıyor:\n",
            "{'Baslik': \"Python'a Giriş\", 'Konu': 'Programlama', 'Aciklama': \"Python'a yeni başlayanlar için bir rehber.\", 'Olusturan': 'OpenAI', 'Lisans': 'CC BY-SA', 'Dil': 'İngilizce', 'Kimlik': 'https://bby.hacettepe.edu.tr/'}\n",
            "\n",
            "Dil anahtarına göre kayıtlar filtreleniyor:\n",
            "İngilizce: [{'Baslik': \"Python'a Giriş\", 'Konu': 'Programlama', 'Aciklama': \"Python'a yeni başlayanlar için bir rehber.\", 'Olusturan': 'OpenAI', 'Lisans': 'CC BY-SA', 'Dil': 'İngilizce', 'Kimlik': 'https://bby.hacettepe.edu.tr/'}, {'Baslik': 'İleri Makine Öğrenimi', 'Konu': 'Yapay Zeka', 'Aciklama': 'Makine öğreniminde ileri kavramlar.', 'Olusturan': 'AI Enstitüsü', 'Lisans': 'CC BY-NC', 'Dil': 'İngilizce', 'Kimlik': 'https://bby.hacettepe.edu.tr/'}]\n"
          ]
        }
      ],
      "source": [
        "import xml.etree.ElementTree as ET\n",
        "from xml.dom import minidom\n",
        "\n",
        "def guzel_yazdir_xml(element):\n",
        "    \"\"\"XML elemanını güzel yazılmış bir dize olarak döndürür.\"\"\"\n",
        "    ham_veri = ET.tostring(element, 'utf-8')\n",
        "    parse_edilmis = minidom.parseString(ham_veri)\n",
        "    return parse_edilmis.toprettyxml(indent=\"    \")\n",
        "\n",
        "def xml_dosyasi_olustur(veri, dosya_adi):\n",
        "    \"\"\"Verilen veriyle bir XML dosyası oluşturur.\"\"\"\n",
        "    kok = ET.Element(\"AEKMetadata\")\n",
        "\n",
        "    for kayit in veri:\n",
        "        eleman = ET.SubElement(kok, \"Kayit\")\n",
        "        for anahtar, deger in kayit.items():\n",
        "            cocuk = ET.SubElement(eleman, anahtar)\n",
        "            cocuk.text = deger\n",
        "\n",
        "    with open(dosya_adi, \"w\", encoding=\"utf-8\") as f:\n",
        "        f.write(guzel_yazdir_xml(kok))\n",
        "\n",
        "def xml_dosyasi_oku(dosya_adi):\n",
        "    \"\"\"Bir XML dosyasını okur ve verilerini döndürür.\"\"\"\n",
        "    agac = ET.parse(dosya_adi)\n",
        "    kok = agac.getroot()\n",
        "\n",
        "    kayitlar = []\n",
        "    for eleman in kok.findall(\"Kayit\"):\n",
        "        kayit_verisi = {}\n",
        "        for alt_eleman in eleman:\n",
        "            kayit_verisi[alt_eleman.tag] = alt_eleman.text\n",
        "        kayitlar.append(kayit_verisi)\n",
        "\n",
        "    return kayitlar\n",
        "\n",
        "def kayitlarda_ara(kayitlar, anahtar, deger):\n",
        "    \"\"\"Belirli bir anahtar-değer çiftine uyan kayıtları arar.\"\"\"\n",
        "    return [kayit for kayit in kayitlar if kayit.get(anahtar) == deger]\n",
        "\n",
        "def kayitlari_filtrele(kayitlar, anahtar):\n",
        "    \"\"\"Belirli bir anahtara göre kayıtları gruplar.\"\"\"\n",
        "    filtrelenmis = {}\n",
        "    for kayit in kayitlar:\n",
        "        anahtar_deger = kayit.get(anahtar, \"Bilinmiyor\")\n",
        "        filtrelenmis.setdefault(anahtar_deger, []).append(kayit)\n",
        "\n",
        "    return filtrelenmis\n",
        "\n",
        "def ana():\n",
        "    dosya_adi = \"aek_metadata.xml\"\n",
        "\n",
        "    # Örnek Veri Girişi (Bunu form giriş mantığı ile değiştirin)\n",
        "    veri = [\n",
        "        {\n",
        "            \"Baslik\": \"Python'a Giriş\",\n",
        "            \"Konu\": \"Programlama\",\n",
        "            \"Aciklama\": \"Python'a yeni başlayanlar için bir rehber.\",\n",
        "            \"Olusturan\": \"OpenAI\",\n",
        "            \"Lisans\": \"CC BY-SA\",\n",
        "            \"Dil\": \"İngilizce\",\n",
        "            \"Kimlik\": \"https://bby.hacettepe.edu.tr/\"\n",
        "        },\n",
        "        {\n",
        "            \"Baslik\": \"İleri Makine Öğrenimi\",\n",
        "            \"Konu\": \"Yapay Zeka\",\n",
        "            \"Aciklama\": \"Makine öğreniminde ileri kavramlar.\",\n",
        "            \"Olusturan\": \"AI Enstitüsü\",\n",
        "            \"Lisans\": \"CC BY-NC\",\n",
        "            \"Dil\": \"İngilizce\",\n",
        "            \"Kimlik\": \"https://bby.hacettepe.edu.tr/\"\n",
        "        }\n",
        "    ]\n",
        "\n",
        "    # XML Dosyası Oluştur\n",
        "    xml_dosyasi_olustur(veri, dosya_adi)\n",
        "    print(f\"XML dosyası '{dosya_adi}' oluşturuldu.\")\n",
        "\n",
        "    # XML Dosyasını Oku\n",
        "    kayitlar = xml_dosyasi_oku(dosya_adi)\n",
        "    print(\"Kayıtlar:\")\n",
        "    for kayit in kayitlar:\n",
        "        print(kayit)\n",
        "\n",
        "    # Arama Örneği\n",
        "    arama_anahtar = \"Konu\"\n",
        "    arama_deger = \"Programlama\"\n",
        "    print(f\"\\n{arama_anahtar}='{arama_deger}' ile eşleşen kayıtlar aranıyor:\")\n",
        "    arama_sonuclari = kayitlarda_ara(kayitlar, arama_anahtar, arama_deger)\n",
        "    for sonuc in arama_sonuclari:\n",
        "        print(sonuc)\n",
        "\n",
        "    # Filtreleme Örneği\n",
        "    filtreleme_anahtar = \"Dil\"\n",
        "    print(f\"\\n{filtreleme_anahtar} anahtarına göre kayıtlar filtreleniyor:\")\n",
        "    filtrelenmis_kayitlar = kayitlari_filtrele(kayitlar, filtreleme_anahtar)\n",
        "    for anahtar, grup in filtrelenmis_kayitlar.items():\n",
        "        print(f\"{anahtar}: {grup}\")\n",
        "\n",
        "if __name__ == \"__main__\":\n",
        "    ana()"
      ]
    }
  ]
}
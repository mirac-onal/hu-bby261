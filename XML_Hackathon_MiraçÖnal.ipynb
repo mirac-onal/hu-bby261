{
  "nbformat": 4,
  "nbformat_minor": 0,
  "metadata": {
    "colab": {
      "provenance": [],
      "authorship_tag": "ABX9TyOdM6ZGizUeNO1w0rES7i+Y",
      "include_colab_link": true
    },
    "kernelspec": {
      "name": "python3",
      "display_name": "Python 3"
    },
    "language_info": {
      "name": "python"
    }
  },
  "cells": [
    {
      "cell_type": "markdown",
      "metadata": {
        "id": "view-in-github",
        "colab_type": "text"
      },
      "source": [
        "<a href=\"https://colab.research.google.com/github/mirac-onal/hu-bby261/blob/main/XML_Hackathon_Mira%C3%A7%C3%96nal.ipynb\" target=\"_parent\"><img src=\"https://colab.research.google.com/assets/colab-badge.svg\" alt=\"Open In Colab\"/></a>"
      ]
    },
    {
      "cell_type": "code",
      "execution_count": 1,
      "metadata": {
        "colab": {
          "base_uri": "https://localhost:8080/"
        },
        "id": "OoExu-D7i7-y",
        "outputId": "4caed42c-bb10-4834-e1c1-c64a58d40cbb"
      },
      "outputs": [
        {
          "output_type": "stream",
          "name": "stdout",
          "text": [
            "XML file 'aek_metadata.xml' created.\n",
            "Records:\n",
            "{'Title': 'Introduction to Python', 'Subject': 'Programming', 'Description': \"A beginner's guide to Python.\", 'Creator': 'OpenAI', 'License': 'CC BY-SA', 'Language': 'English', 'Identifier': 'https://example.com/python'}\n",
            "{'Title': 'Advanced Machine Learning', 'Subject': 'AI', 'Description': 'Advanced concepts in ML.', 'Creator': 'AI Institute', 'License': 'CC BY-NC', 'Language': 'English', 'Identifier': 'https://example.com/ml'}\n",
            "\n",
            "Searching for records with Subject='Programming':\n",
            "{'Title': 'Introduction to Python', 'Subject': 'Programming', 'Description': \"A beginner's guide to Python.\", 'Creator': 'OpenAI', 'License': 'CC BY-SA', 'Language': 'English', 'Identifier': 'https://example.com/python'}\n",
            "\n",
            "Filtering records by Language:\n",
            "English: [{'Title': 'Introduction to Python', 'Subject': 'Programming', 'Description': \"A beginner's guide to Python.\", 'Creator': 'OpenAI', 'License': 'CC BY-SA', 'Language': 'English', 'Identifier': 'https://example.com/python'}, {'Title': 'Advanced Machine Learning', 'Subject': 'AI', 'Description': 'Advanced concepts in ML.', 'Creator': 'AI Institute', 'License': 'CC BY-NC', 'Language': 'English', 'Identifier': 'https://example.com/ml'}]\n"
          ]
        }
      ],
      "source": [
        "import xml.etree.ElementTree as ET\n",
        "from xml.dom import minidom\n",
        "\n",
        "def pretty_print_xml(element):\n",
        "    \"\"\"Returns a pretty-printed XML string.\"\"\"\n",
        "    raw_string = ET.tostring(element, 'utf-8')\n",
        "    parsed = minidom.parseString(raw_string)\n",
        "    return parsed.toprettyxml(indent=\"    \")\n",
        "\n",
        "def create_xml_file(data, file_name):\n",
        "    \"\"\"Creates an XML file with the given data.\"\"\"\n",
        "    root = ET.Element(\"AEKMetadata\")\n",
        "\n",
        "    for entry in data:\n",
        "        record = ET.SubElement(root, \"Record\")\n",
        "        for key, value in entry.items():\n",
        "            child = ET.SubElement(record, key)\n",
        "            child.text = value\n",
        "\n",
        "    with open(file_name, \"w\", encoding=\"utf-8\") as f:\n",
        "        f.write(pretty_print_xml(root))\n",
        "\n",
        "def read_xml_file(file_name):\n",
        "    \"\"\"Reads and parses an XML file, returning its data.\"\"\"\n",
        "    tree = ET.parse(file_name)\n",
        "    root = tree.getroot()\n",
        "\n",
        "    records = []\n",
        "    for record in root.findall(\"Record\"):\n",
        "        record_data = {}\n",
        "        for element in record:\n",
        "            record_data[element.tag] = element.text\n",
        "        records.append(record_data)\n",
        "\n",
        "    return records\n",
        "\n",
        "def search_in_records(records, key, value):\n",
        "    \"\"\"Searches for records matching a specific key-value pair.\"\"\"\n",
        "    return [record for record in records if record.get(key) == value]\n",
        "\n",
        "def filter_records(records, key):\n",
        "    \"\"\"Groups records by a specific key.\"\"\"\n",
        "    filtered = {}\n",
        "    for record in records:\n",
        "        key_value = record.get(key, \"Unknown\")\n",
        "        filtered.setdefault(key_value, []).append(record)\n",
        "\n",
        "    return filtered\n",
        "\n",
        "def main():\n",
        "    file_name = \"aek_metadata.xml\"\n",
        "\n",
        "    # Sample Data Input (Replace this with form input logic)\n",
        "    data = [\n",
        "        {\n",
        "            \"Title\": \"Introduction to Python\",\n",
        "            \"Subject\": \"Programming\",\n",
        "            \"Description\": \"A beginner's guide to Python.\",\n",
        "            \"Creator\": \"OpenAI\",\n",
        "            \"License\": \"CC BY-SA\",\n",
        "            \"Language\": \"English\",\n",
        "            \"Identifier\": \"https://example.com/python\"\n",
        "        },\n",
        "        {\n",
        "            \"Title\": \"Advanced Machine Learning\",\n",
        "            \"Subject\": \"AI\",\n",
        "            \"Description\": \"Advanced concepts in ML.\",\n",
        "            \"Creator\": \"AI Institute\",\n",
        "            \"License\": \"CC BY-NC\",\n",
        "            \"Language\": \"English\",\n",
        "            \"Identifier\": \"https://example.com/ml\"\n",
        "        }\n",
        "    ]\n",
        "\n",
        "    # Create XML File\n",
        "    create_xml_file(data, file_name)\n",
        "    print(f\"XML file '{file_name}' created.\")\n",
        "\n",
        "    # Read XML File\n",
        "    records = read_xml_file(file_name)\n",
        "    print(\"Records:\")\n",
        "    for record in records:\n",
        "        print(record)\n",
        "\n",
        "    # Search Example\n",
        "    search_key = \"Subject\"\n",
        "    search_value = \"Programming\"\n",
        "    print(f\"\\nSearching for records with {search_key}='{search_value}':\")\n",
        "    search_results = search_in_records(records, search_key, search_value)\n",
        "    for result in search_results:\n",
        "        print(result)\n",
        "\n",
        "    # Filter Example\n",
        "    filter_key = \"Language\"\n",
        "    print(f\"\\nFiltering records by {filter_key}:\")\n",
        "    filtered_records = filter_records(records, filter_key)\n",
        "    for key, group in filtered_records.items():\n",
        "        print(f\"{key}: {group}\")\n",
        "\n",
        "if __name__ == \"__main__\":\n",
        "    main()"
      ]
    }
  ]
}
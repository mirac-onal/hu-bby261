{
  "nbformat": 4,
  "nbformat_minor": 0,
  "metadata": {
    "colab": {
      "provenance": [],
      "authorship_tag": "ABX9TyNgdsHVH8M+hHSySws+ZSB+",
      "include_colab_link": true
    },
    "kernelspec": {
      "name": "python3",
      "display_name": "Python 3"
    },
    "language_info": {
      "name": "python"
    }
  },
  "cells": [
    {
      "cell_type": "markdown",
      "metadata": {
        "id": "view-in-github",
        "colab_type": "text"
      },
      "source": [
        "<a href=\"https://colab.research.google.com/github/mirac-onal/hu-bby261/blob/main/K%C3%BCt%C3%BCphaneyleDilTespiti_Mira%C3%A7%C3%96nal.ipynb\" target=\"_parent\"><img src=\"https://colab.research.google.com/assets/colab-badge.svg\" alt=\"Open In Colab\"/></a>"
      ]
    },
    {
      "cell_type": "code",
      "execution_count": 1,
      "metadata": {
        "colab": {
          "base_uri": "https://localhost:8080/"
        },
        "id": "C0iH38VbkTIa",
        "outputId": "fa4f8120-d233-4805-dd39-a6cb4b6d3d1e"
      },
      "outputs": [
        {
          "output_type": "stream",
          "name": "stdout",
          "text": [
            "Collecting langdetect\n",
            "  Downloading langdetect-1.0.9.tar.gz (981 kB)\n",
            "\u001b[?25l     \u001b[90m━━━━━━━━━━━━━━━━━━━━━━━━━━━━━━━━━━━━━━━━\u001b[0m \u001b[32m0.0/981.5 kB\u001b[0m \u001b[31m?\u001b[0m eta \u001b[36m-:--:--\u001b[0m\r\u001b[2K     \u001b[91m━━━━━━━━━━━━━━━━━━━━━━━━━━━━━━━━━━━━━━━\u001b[0m\u001b[91m╸\u001b[0m \u001b[32m972.8/981.5 kB\u001b[0m \u001b[31m48.9 MB/s\u001b[0m eta \u001b[36m0:00:01\u001b[0m\r\u001b[2K     \u001b[90m━━━━━━━━━━━━━━━━━━━━━━━━━━━━━━━━━━━━━━━━\u001b[0m \u001b[32m981.5/981.5 kB\u001b[0m \u001b[31m19.8 MB/s\u001b[0m eta \u001b[36m0:00:00\u001b[0m\n",
            "\u001b[?25h  Preparing metadata (setup.py) ... \u001b[?25l\u001b[?25hdone\n",
            "Requirement already satisfied: six in /usr/local/lib/python3.10/dist-packages (from langdetect) (1.16.0)\n",
            "Building wheels for collected packages: langdetect\n",
            "  Building wheel for langdetect (setup.py) ... \u001b[?25l\u001b[?25hdone\n",
            "  Created wheel for langdetect: filename=langdetect-1.0.9-py3-none-any.whl size=993222 sha256=5b6d8fb5e10ff7b61698e3906bd77eaa249674c7e004c61fd7d165deb209cfb1\n",
            "  Stored in directory: /root/.cache/pip/wheels/95/03/7d/59ea870c70ce4e5a370638b5462a7711ab78fba2f655d05106\n",
            "Successfully built langdetect\n",
            "Installing collected packages: langdetect\n",
            "Successfully installed langdetect-1.0.9\n"
          ]
        }
      ],
      "source": [
        "pip install langdetect"
      ]
    },
    {
      "cell_type": "code",
      "source": [
        "from langdetect import detect, DetectorFactory\n",
        "\n",
        "# Langdetect'in tahmin edilebilir sonuçlar vermesi için sabit tohum ayarı\n",
        "DetectorFactory.seed = 0\n",
        "\n",
        "def dil_tespit(metin):\n",
        "    try:\n",
        "        dil = detect(metin)\n",
        "\n",
        "        # Tespit edilen dili kontrol edin\n",
        "        if dil in [\"tr\", \"en\", \"de\", \"fr\", \"es\"]:\n",
        "            return f\"Metin {dil} dilinde yazılmıştır.\"\n",
        "        else:\n",
        "            return \"Metin belirtilen 5 dilden birinde yazılmamış.\"\n",
        "\n",
        "    except Exception as e:\n",
        "        return f\"Dil tespit edilemedi: {e}\"\n",
        "\n",
        "# Örnek kullanım\n",
        "metin = \"Merhaba ben Miraç?\"\n",
        "print(dil_tespit(metin))"
      ],
      "metadata": {
        "colab": {
          "base_uri": "https://localhost:8080/"
        },
        "id": "DuK2ledikhUs",
        "outputId": "31de77c8-8245-4ddf-a356-9ad33a9cb14b"
      },
      "execution_count": 3,
      "outputs": [
        {
          "output_type": "stream",
          "name": "stdout",
          "text": [
            "Metin tr dilinde yazılmıştır.\n"
          ]
        }
      ]
    }
  ]
}
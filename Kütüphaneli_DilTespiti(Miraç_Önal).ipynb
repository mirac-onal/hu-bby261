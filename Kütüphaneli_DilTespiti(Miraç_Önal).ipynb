{
  "nbformat": 4,
  "nbformat_minor": 0,
  "metadata": {
    "colab": {
      "provenance": [],
      "authorship_tag": "ABX9TyNKgT8xAYYxx3M2sDya2G3w",
      "include_colab_link": true
    },
    "kernelspec": {
      "name": "python3",
      "display_name": "Python 3"
    },
    "language_info": {
      "name": "python"
    }
  },
  "cells": [
    {
      "cell_type": "markdown",
      "metadata": {
        "id": "view-in-github",
        "colab_type": "text"
      },
      "source": [
        "<a href=\"https://colab.research.google.com/github/mirac-onal/hu-bby261/blob/main/K%C3%BCt%C3%BCphaneli_DilTespiti(Mira%C3%A7_%C3%96nal).ipynb\" target=\"_parent\"><img src=\"https://colab.research.google.com/assets/colab-badge.svg\" alt=\"Open In Colab\"/></a>"
      ]
    },
    {
      "cell_type": "code",
      "execution_count": 2,
      "metadata": {
        "colab": {
          "base_uri": "https://localhost:8080/"
        },
        "id": "QTZjewYXCfyz",
        "outputId": "b031d61f-0685-4607-f6d4-07f1807f4a33"
      },
      "outputs": [
        {
          "output_type": "stream",
          "name": "stdout",
          "text": [
            "Collecting langdetect\n",
            "  Downloading langdetect-1.0.9.tar.gz (981 kB)\n",
            "\u001b[?25l     \u001b[90m━━━━━━━━━━━━━━━━━━━━━━━━━━━━━━━━━━━━━━━━\u001b[0m \u001b[32m0.0/981.5 kB\u001b[0m \u001b[31m?\u001b[0m eta \u001b[36m-:--:--\u001b[0m\r\u001b[2K     \u001b[91m━━━━━━━━━━━━━━━━━━━━━━━━━━━━━━━━━━━━━━━\u001b[0m\u001b[91m╸\u001b[0m \u001b[32m972.8/981.5 kB\u001b[0m \u001b[31m60.2 MB/s\u001b[0m eta \u001b[36m0:00:01\u001b[0m\r\u001b[2K     \u001b[90m━━━━━━━━━━━━━━━━━━━━━━━━━━━━━━━━━━━━━━━━\u001b[0m \u001b[32m981.5/981.5 kB\u001b[0m \u001b[31m19.9 MB/s\u001b[0m eta \u001b[36m0:00:00\u001b[0m\n",
            "\u001b[?25h  Preparing metadata (setup.py) ... \u001b[?25l\u001b[?25hdone\n",
            "Requirement already satisfied: six in /usr/local/lib/python3.10/dist-packages (from langdetect) (1.16.0)\n",
            "Building wheels for collected packages: langdetect\n",
            "  Building wheel for langdetect (setup.py) ... \u001b[?25l\u001b[?25hdone\n",
            "  Created wheel for langdetect: filename=langdetect-1.0.9-py3-none-any.whl size=993222 sha256=fbe4408c5760147fb47043af30bf75fb4fbb95dd418efd5a4ff286012ce3e0a3\n",
            "  Stored in directory: /root/.cache/pip/wheels/95/03/7d/59ea870c70ce4e5a370638b5462a7711ab78fba2f655d05106\n",
            "Successfully built langdetect\n",
            "Installing collected packages: langdetect\n",
            "Successfully installed langdetect-1.0.9\n"
          ]
        }
      ],
      "source": [
        "pip install langdetect"
      ]
    },
    {
      "cell_type": "code",
      "source": [
        "from langdetect import detect\n",
        "\n",
        "def detect_language(text):\n",
        "    try:\n",
        "        language = detect(text)  # Metnin dilini tespit et\n",
        "        return language\n",
        "    except Exception as e:\n",
        "        return str(e)\n",
        "\n",
        "# Test edilecek metinler\n",
        "text1 = \"Merhaba, nasılsınız?\"\n",
        "text2 = \"Hello, how are you?\"\n",
        "text3 = \"Wie geht's dir?\"\n",
        "text4 = \"Bonjour, comment ça va?\"\n",
        "text5 = \"Hola, ¿cómo estás?\"\n",
        "\n",
        "# Dil tespiti\n",
        "print(\"Metin 1 dili:\", detect_language(text1))  # Türkçe\n",
        "print(\"Metin 2 dili:\", detect_language(text2))  # İngilizce\n",
        "print(\"Metin 3 dili:\", detect_language(text3))  # Almanca\n",
        "print(\"Metin 4 dili:\", detect_language(text4))  # Fransızca\n",
        "print(\"Metin 5 dili:\", detect_language(text5))  # İspanyolca"
      ],
      "metadata": {
        "colab": {
          "base_uri": "https://localhost:8080/"
        },
        "id": "Ms8gWgrECiRo",
        "outputId": "2f4adef7-19a2-4d05-fa2e-e4fd20daf797"
      },
      "execution_count": 3,
      "outputs": [
        {
          "output_type": "stream",
          "name": "stdout",
          "text": [
            "Metin 1 dili: tr\n",
            "Metin 2 dili: en\n",
            "Metin 3 dili: af\n",
            "Metin 4 dili: fr\n",
            "Metin 5 dili: es\n"
          ]
        }
      ]
    }
  ]
}
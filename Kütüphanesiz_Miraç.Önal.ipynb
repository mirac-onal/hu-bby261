{
  "nbformat": 4,
  "nbformat_minor": 0,
  "metadata": {
    "colab": {
      "provenance": [],
      "authorship_tag": "ABX9TyO5LinLua9l/O8Co6hUerps",
      "include_colab_link": true
    },
    "kernelspec": {
      "name": "python3",
      "display_name": "Python 3"
    },
    "language_info": {
      "name": "python"
    }
  },
  "cells": [
    {
      "cell_type": "markdown",
      "metadata": {
        "id": "view-in-github",
        "colab_type": "text"
      },
      "source": [
        "<a href=\"https://colab.research.google.com/github/mirac-onal/hu-bby261/blob/main/K%C3%BCt%C3%BCphanesiz_Mira%C3%A7.%C3%96nal.ipynb\" target=\"_parent\"><img src=\"https://colab.research.google.com/assets/colab-badge.svg\" alt=\"Open In Colab\"/></a>"
      ]
    },
    {
      "cell_type": "code",
      "execution_count": 2,
      "metadata": {
        "colab": {
          "base_uri": "https://localhost:8080/"
        },
        "id": "q9LEQhCfeA0O",
        "outputId": "de507a45-b298-4b19-a268-474f59463a0f"
      },
      "outputs": [
        {
          "output_type": "stream",
          "name": "stdout",
          "text": [
            "Bir metin girin: merhaba ben miraç\n",
            "Metnin dili: Turkish\n"
          ]
        }
      ],
      "source": [
        "# Dil tespiti için temel kelimeler\n",
        "languages_keywords = {\n",
        "    'Turkish': ['ve', 'bir', 'bu', 'ben', 'çok', 'gibi', 'ile', 'de', 'da', 'ama'],\n",
        "    'English': ['the', 'is', 'and', 'of', 'to', 'in', 'that', 'for', 'on', 'with'],\n",
        "    'German': ['und', 'der', 'die', 'das', 'ist', 'zu', 'von', 'mit', 'ein', 'nicht'],\n",
        "    'French': ['le', 'la', 'de', 'et', 'les', 'des', 'un', 'une', 'est', 'dans'],\n",
        "    'Spanish': ['el', 'la', 'y', 'de', 'que', 'en', 'los', 'las', 'un', 'una']\n",
        "}\n",
        "\n",
        "def detect_language(text):\n",
        "    # Küçük harfe dönüştürme\n",
        "    text = text.lower()\n",
        "\n",
        "    # Dil puanları\n",
        "    language_scores = {'Turkish': 0, 'English': 0, 'German': 0, 'French': 0, 'Spanish': 0}\n",
        "\n",
        "    # Metindeki her bir kelimeyi kontrol etme\n",
        "    words = text.split()\n",
        "\n",
        "    for word in words:\n",
        "        for language, keywords in languages_keywords.items():\n",
        "            if word in keywords:\n",
        "                language_scores[language] += 1\n",
        "\n",
        "    # En yüksek puanı alana göre dil tespiti\n",
        "    detected_language = max(language_scores, key=language_scores.get)\n",
        "\n",
        "    return detected_language\n",
        "\n",
        "# Test metni\n",
        "test_text = input(\"Bir metin girin: \")\n",
        "detected_language = detect_language(test_text)\n",
        "print(f\"Metnin dili: {detected_language}\")"
      ]
    }
  ]
}
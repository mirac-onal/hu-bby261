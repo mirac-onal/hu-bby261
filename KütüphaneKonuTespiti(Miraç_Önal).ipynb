{
  "nbformat": 4,
  "nbformat_minor": 0,
  "metadata": {
    "colab": {
      "provenance": [],
      "authorship_tag": "ABX9TyMOCsuq7ldlZGiNIUsXZ64P",
      "include_colab_link": true
    },
    "kernelspec": {
      "name": "python3",
      "display_name": "Python 3"
    },
    "language_info": {
      "name": "python"
    }
  },
  "cells": [
    {
      "cell_type": "markdown",
      "metadata": {
        "id": "view-in-github",
        "colab_type": "text"
      },
      "source": [
        "<a href=\"https://colab.research.google.com/github/mirac-onal/hu-bby261/blob/main/K%C3%BCt%C3%BCphaneKonuTespiti(Mira%C3%A7_%C3%96nal).ipynb\" target=\"_parent\"><img src=\"https://colab.research.google.com/assets/colab-badge.svg\" alt=\"Open In Colab\"/></a>"
      ]
    },
    {
      "cell_type": "code",
      "execution_count": 1,
      "metadata": {
        "colab": {
          "base_uri": "https://localhost:8080/"
        },
        "id": "lOtlvglXlm3P",
        "outputId": "ae0e6bf2-a09a-454b-d492-c207e6eba368"
      },
      "outputs": [
        {
          "output_type": "stream",
          "name": "stdout",
          "text": [
            "Requirement already satisfied: scikit-learn in /usr/local/lib/python3.10/dist-packages (1.5.2)\n",
            "Requirement already satisfied: numpy>=1.19.5 in /usr/local/lib/python3.10/dist-packages (from scikit-learn) (1.26.4)\n",
            "Requirement already satisfied: scipy>=1.6.0 in /usr/local/lib/python3.10/dist-packages (from scikit-learn) (1.13.1)\n",
            "Requirement already satisfied: joblib>=1.2.0 in /usr/local/lib/python3.10/dist-packages (from scikit-learn) (1.4.2)\n",
            "Requirement already satisfied: threadpoolctl>=3.1.0 in /usr/local/lib/python3.10/dist-packages (from scikit-learn) (3.5.0)\n"
          ]
        }
      ],
      "source": [
        "pip install scikit-learn"
      ]
    },
    {
      "cell_type": "code",
      "source": [
        "from sklearn.feature_extraction.text import TfidfVectorizer\n",
        "from sklearn.naive_bayes import MultinomialNB\n",
        "from sklearn.pipeline import make_pipeline\n",
        "\n",
        "# Eğitim verisi: Her konu başlığı için örnek metinler\n",
        "data = {\n",
        "    \"Siyaset\": [\n",
        "        \"Hükümet yeni yasa teklifini onayladı.\",\n",
        "        \"Seçimler yaklaştıkça kampanyalar hız kazandı.\",\n",
        "        \"Parlamento toplantısında tartışmalı kararlar alındı.\"\n",
        "        \"Partiler arasında yarışlar sürüyor.\"\n",
        "    ],\n",
        "    \"Teknoloji\": [\n",
        "        \"Yeni akıllı telefon piyasaya sürüldü.\",\n",
        "        \"Yapay zeka ile ilgili son gelişmeler.\",\n",
        "        \"Siber güvenlik önlemleri artırıldı.\"\n",
        "    ],\n",
        "    \"Spor\": [\n",
        "        \"Takım yeni sezona hazırlık yapıyor.\",\n",
        "        \"Şampiyona maçında büyük çekişme yaşandı.\",\n",
        "        \"Sporcular sağlık kontrollerinden geçti.\"\n",
        "        \"Futbolda takımıımz şampiyon oldu\"\n",
        "    ],\n",
        "    \"Sağlık\": [\n",
        "        \"Yeni bir tedavi yöntemi geliştirildi.\",\n",
        "        \"Sağlıklı yaşam için öneriler.\",\n",
        "        \"Aşı çalışmaları hızla devam ediyor.\"\n",
        "        \"Doktorların ve hemşirelerin işi çok zor\"\n",
        "    ],\n",
        "    \"Eğlence\": [\n",
        "        \"Yeni film gişe rekorları kırdı.\",\n",
        "        \"Festivalde ünlü sanatçılar sahne aldı.\",\n",
        "        \"Konser biletleri satışa sunuldu.\"\n",
        "    ]\n",
        "}\n",
        "\n",
        "# Veriyi dönüştürme\n",
        "texts = []\n",
        "labels = []\n",
        "for topic, examples in data.items():\n",
        "    texts.extend(examples)\n",
        "    labels.extend([topic] * len(examples))\n",
        "\n",
        "# Model oluşturma ve eğitme\n",
        "model = make_pipeline(TfidfVectorizer(), MultinomialNB())\n",
        "model.fit(texts, labels)\n",
        "\n",
        "# Konu başlığı tespit fonksiyonu\n",
        "def konu_basligi_tespit(metin):\n",
        "    tahmin = model.predict([metin])[0]\n",
        "    if tahmin in [\"Siyaset\", \"Teknoloji\", \"Spor\", \"Sağlık\", \"Eğlence\"]:\n",
        "        return f\"Metin '{tahmin}' konusuyla ilgili.\"\n",
        "    else:\n",
        "        return \"Metin 'diğer konular' kategorisine giriyor.\"\n",
        "\n",
        "# Örnek kullanım\n",
        "metin = \"Ati242 konserinin biletleri satışa çıkmış.\"\n",
        "print(konu_basligi_tespit(metin))"
      ],
      "metadata": {
        "colab": {
          "base_uri": "https://localhost:8080/"
        },
        "id": "6B_p42DtmktW",
        "outputId": "0cd19d0f-2c65-401c-865d-38639c06e96f"
      },
      "execution_count": 10,
      "outputs": [
        {
          "output_type": "stream",
          "name": "stdout",
          "text": [
            "Metin 'Eğlence' konusuyla ilgili.\n"
          ]
        }
      ]
    }
  ]
}
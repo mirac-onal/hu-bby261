{
  "nbformat": 4,
  "nbformat_minor": 0,
  "metadata": {
    "colab": {
      "provenance": [],
      "authorship_tag": "ABX9TyOZ3EOh1Immp3cFKl6fi+iz",
      "include_colab_link": true
    },
    "kernelspec": {
      "name": "python3",
      "display_name": "Python 3"
    },
    "language_info": {
      "name": "python"
    }
  },
  "cells": [
    {
      "cell_type": "markdown",
      "metadata": {
        "id": "view-in-github",
        "colab_type": "text"
      },
      "source": [
        "<a href=\"https://colab.research.google.com/github/mirac-onal/hu-bby261/blob/main/K%C3%BCt%C3%BCphanesiz.ipynb\" target=\"_parent\"><img src=\"https://colab.research.google.com/assets/colab-badge.svg\" alt=\"Open In Colab\"/></a>"
      ]
    },
    {
      "cell_type": "code",
      "execution_count": 9,
      "metadata": {
        "colab": {
          "base_uri": "https://localhost:8080/"
        },
        "id": "q9LEQhCfeA0O",
        "outputId": "486607c0-bf7f-42a8-9a7f-c15023cdbd25"
      },
      "outputs": [
        {
          "output_type": "stream",
          "name": "stdout",
          "text": [
            "Detected Language: French\n"
          ]
        }
      ],
      "source": [
        "def detect_language(text):\n",
        "    text = text.lower()  # Metni küçük harfe çevirerek analiz yapalım\n",
        "\n",
        "    # Diller için anahtar kelime ve karakter kümeleri\n",
        "    languages = {\n",
        "        \"Turkish\": {\"keywords\": [\"ve\", \"bu\", \"bir\"], \"chars\": \"ğşüöç\"},\n",
        "        \"English\": {\"keywords\": [\"the\", \"is\", \"and\"], \"chars\": \"qwx\"},\n",
        "        \"German\": {\"keywords\": [\"und\", \"der\", \"die\", \"das\"], \"chars\": \"ßäöü\"},\n",
        "        \"French\": {\"keywords\": [\"le\", \"la\", \"est\"], \"chars\": \"çéèàê\"},\n",
        "        \"Spanish\": {\"keywords\": [\"el\", \"la\", \"es\"], \"chars\": \"ñáéíóú\"},\n",
        "    }\n",
        "\n",
        "    # Her dil için bir puan başlatalım\n",
        "    scores = {lang: 0 for lang in languages}\n",
        "\n",
        "    # Anahtar kelimeleri sayma\n",
        "    for lang, props in languages.items():\n",
        "        for keyword in props[\"keywords\"]:\n",
        "            scores[lang] += text.count(keyword)\n",
        "\n",
        "    # Özel karakterleri sayma\n",
        "    for lang, props in languages.items():\n",
        "        for char in props[\"chars\"]:\n",
        "            scores[lang] += text.count(char)\n",
        "\n",
        "    # En yüksek puanı alan dili belirleyelim\n",
        "    detected_language = max(scores, key=scores.get)\n",
        "    return detected_language\n",
        "\n",
        "# Örnek kullanım\n",
        "text = \"S'il te plaît\"\n",
        "print(\"Detected Language:\", detect_language(text))\n"
      ]
    }
  ]
}